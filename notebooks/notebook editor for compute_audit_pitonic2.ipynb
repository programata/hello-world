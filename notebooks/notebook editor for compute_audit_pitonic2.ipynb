{
  "metadata": {
    "kernelspec": {
      "display_name": "Python in CPU-M-1-cpu-4Gb-Ram (env py38)",
      "language": "python",
      "name": "py-dku-containerized-venv-py38-cpu-m-1-cpu-4gb-ram"
    },
    "creator": "programata@gmail.com",
    "createdOn": 1709244483763,
    "tags": [
      "deleted-recipe-editor"
    ],
    "customFields": {}
  },
  "nbformat": 4,
  "nbformat_minor": 0,
  "cells": [
    {
      "execution_count": 0,
      "cell_type": "code",
      "metadata": {},
      "source": [
        "# -*- coding: utf-8 -*-\n",
        "import dataiku\n",
        "import pandas as pd, numpy as np\n",
        "from dataiku import pandasutils as pdu\n",
        "\n",
        "# Read recipe inputs\n",
        "audit \u003d dataiku.Dataset(\"audit\")\n",
        "audit_df \u003d audit.get_dataframe()\n",
        "\n",
        "\n",
        "# Compute recipe outputs from inputs\n",
        "# TODO: Replace this part by your actual code that computes the output, as a Pandas dataframe\n",
        "# NB: DSS also supports other kinds of APIs for reading and writing data. Please see doc.\n",
        "\n",
        "audit_pitonic2_df \u003d audit_df # For this sample code, simply copy input to output\n",
        "\n",
        "\n",
        "# Write recipe outputs\n",
        "audit_pitonic2 \u003d dataiku.Dataset(\"audit_pitonic2\")\n",
        "audit_pitonic2.write_with_schema(audit_pitonic2_df)"
      ],
      "outputs": []
    }
  ]
}